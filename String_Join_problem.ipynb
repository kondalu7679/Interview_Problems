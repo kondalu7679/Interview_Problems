{
 "cells": [
  {
   "cell_type": "markdown",
   "metadata": {},
   "source": [
    "## Problem:"
   ]
  },
  {
   "cell_type": "markdown",
   "metadata": {},
   "source": [
    "Take a string and split the string into two parts randomly then swap the two parts and join them if there is matching letters between the parts exist remove the letters on both side\n",
    "\n",
    "See the example bellow\n",
    "\n",
    "**Input :** string is like **'abccdecba'**, split at **'d'** or **4th** position\n",
    "\n",
    "**output :** :de\n",
    "\n",
    "**logic:**\n",
    "\n",
    "decb**a** \t **a**bcc\n",
    "\n",
    "dec**b** **b**cc\n",
    "\n",
    "de**c** **cc**\n",
    "\n",
    "de \n"
   ]
  },
  {
   "cell_type": "code",
   "execution_count": 34,
   "metadata": {},
   "outputs": [
    {
     "name": "stdout",
     "output_type": "stream",
     "text": [
      "enter a string:\tabccdecba\n",
      "enter a character or position to split th string:\td\n",
      "de \n"
     ]
    }
   ],
   "source": [
    "String = str(input('enter a string:\\t'))\n",
    "\n",
    "split_on_position = input('enter a character or position to split th string:\\t')\n",
    "try:\n",
    "    position = String.index(split_on_position)\n",
    "except:\n",
    "    if int(split_on_position) < len(String):\n",
    "        position = int(split_on_position)\n",
    "    else :\n",
    "        print(\"Index Error !!\")\n",
    "\n",
    "left  = String[:position]\n",
    "right = String[position:]\n",
    "\n",
    "#print(right,'\\t',left,end='\\n')\n",
    "\n",
    "while True:\n",
    "    if left[0] != right[-1]  or left == ' ' or right ==' ':\n",
    "        if left == ' ' and right ==' ':\n",
    "            print('None')\n",
    "        else:\n",
    "            print(right+left)\n",
    "        break\n",
    "    else:\n",
    "        for i in range(len(right)-1,-1,-1):\n",
    "            if right[-1] != right[i]:\n",
    "                right = right[0:i+1]\n",
    "                break\n",
    "            else:\n",
    "                if len(right)<=2:\n",
    "                    right = ' '\n",
    "                    break\n",
    "\n",
    "        for i in range(len(left)):\n",
    "            if left[0] != left[i]:\n",
    "                left = left[i:]\n",
    "                break\n",
    "            else:\n",
    "                if len(left)<=2:\n",
    "                    left = ' '\n",
    "                    break\n"
   ]
  },
  {
   "cell_type": "code",
   "execution_count": null,
   "metadata": {},
   "outputs": [],
   "source": []
  },
  {
   "cell_type": "code",
   "execution_count": null,
   "metadata": {},
   "outputs": [],
   "source": []
  },
  {
   "cell_type": "code",
   "execution_count": null,
   "metadata": {},
   "outputs": [],
   "source": []
  }
 ],
 "metadata": {
  "kernelspec": {
   "display_name": "Python 3",
   "language": "python",
   "name": "python3"
  },
  "language_info": {
   "codemirror_mode": {
    "name": "ipython",
    "version": 3
   },
   "file_extension": ".py",
   "mimetype": "text/x-python",
   "name": "python",
   "nbconvert_exporter": "python",
   "pygments_lexer": "ipython3",
   "version": "3.7.1"
  }
 },
 "nbformat": 4,
 "nbformat_minor": 4
}
