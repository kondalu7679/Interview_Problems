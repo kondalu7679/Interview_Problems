{
 "cells": [
  {
   "cell_type": "markdown",
   "metadata": {},
   "source": [
    "### Problem:"
   ]
  },
  {
   "cell_type": "markdown",
   "metadata": {},
   "source": [
    "Generate a sequence: **44,55,4444,5445,444444, 445544, 454454, 455554, 544445, 545545........**"
   ]
  },
  {
   "cell_type": "markdown",
   "metadata": {},
   "source": [
    "Generate a series of numbers, each number contains only **4** and/or **5** and is a **palindrome** "
   ]
  },
  {
   "cell_type": "code",
   "execution_count": 18,
   "metadata": {},
   "outputs": [
    {
     "name": "stdout",
     "output_type": "stream",
     "text": [
      "Enter maximum length of a last number :5\n",
      "[44, 55, 444, 454, 545, 555, 4444, 4554, 5445, 5555, 44444, 44544, 45454, 45554, 54445, 54545, 55455, 55555]\n"
     ]
    }
   ],
   "source": [
    "import itertools\n",
    "series = []\n",
    "n = int(input('Enter maximum length of a last number :'))\n",
    "\n",
    "for i in range(1,n):## looping length of number from 1 to maximum(n)\n",
    "    \n",
    "    for j in itertools.product(['4','5'],repeat=i+1):\n",
    "        # generating a series by using product package it generates the product of '4' and '5' with reapeting of digits\n",
    "        #reapeat = 3,list = ('4','4','4')('4','4','5')('4','5','4')('4','5','5')('5','4','4')('5','4','5')('5','5','4')('5','5','5')\n",
    "        if j==j[::-1]: \n",
    "            # example j = ('4','5','4')\n",
    "            series.append(int(''.join(j)))\n",
    "        \n",
    "print(series)"
   ]
  },
  {
   "cell_type": "code",
   "execution_count": null,
   "metadata": {},
   "outputs": [],
   "source": []
  }
 ],
 "metadata": {
  "kernelspec": {
   "display_name": "Python 3",
   "language": "python",
   "name": "python3"
  },
  "language_info": {
   "codemirror_mode": {
    "name": "ipython",
    "version": 3
   },
   "file_extension": ".py",
   "mimetype": "text/x-python",
   "name": "python",
   "nbconvert_exporter": "python",
   "pygments_lexer": "ipython3",
   "version": "3.7.1"
  }
 },
 "nbformat": 4,
 "nbformat_minor": 2
}
